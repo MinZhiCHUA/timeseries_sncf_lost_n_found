{
 "cells": [
  {
   "cell_type": "markdown",
   "metadata": {},
   "source": [
    "On peut interragir avec une base sql de nombreuses manières possibles:\n",
    "1. Grace à une interface graphique \n",
    "     - Phpmyadmin pour le CRUD en mysql\n",
    "     - Vscode Viewer mais que pour le read\n",
    " 2. Dans le terminal: nécessaire quand on travaille dans des contenaires et souvent utile dans le cloud.\n",
    " 3. En executant du code sql à l'aide d'un toolkit: nécessite soit de coder du sql dans un fichier à part, ou dans un fichier python mais sans aide de l'IDE. a l'avatage de s'appuyer sur du code SQL qui est universel\n",
    " 4. Avec un toolkit en mode requete: permet d'automatiser certaines choses mais de manière aussi poussée qu'avec un ORM et sans être universel comme SQL\n",
    "      - sqlite\n",
    "      - sqlalchemy \n",
    "2. Avec un ORM: permet d'exploiter la puissance de l'orienté objet (facilité de lecture et factorisation importante)\n",
    "     - sqlalchemy."
   ]
  },
  {
   "cell_type": "markdown",
   "metadata": {},
   "source": [
    "# I Utilisation du terminal"
   ]
  },
  {
   "cell_type": "markdown",
   "metadata": {},
   "source": [
    "## 1. création des tables"
   ]
  },
  {
   "cell_type": "markdown",
   "metadata": {},
   "source": [
    "sqlite> .mode column  \n",
    "sqlite> .header on  \n",
    "sqlite> .read c:/sqlite/commands.txt  "
   ]
  },
  {
   "cell_type": "markdown",
   "metadata": {},
   "source": [
    "## 2. Importation des données"
   ]
  },
  {
   "cell_type": "markdown",
   "metadata": {},
   "source": [
    "A partir d'un fichier csv pays.csv.\n",
    "\n",
    "On se connecte à notre base en tapant **`Sqlite3`** dans le terminal puis:\n",
    "\n",
    "- .open McDo.db\n",
    "- .mode csv\n",
    "- .import pays.csv Pays "
   ]
  },
  {
   "cell_type": "markdown",
   "metadata": {},
   "source": [
    "# II En utilisant du sql dans python"
   ]
  },
  {
   "cell_type": "markdown",
   "metadata": {},
   "source": [
    "## 1. création des tables"
   ]
  },
  {
   "cell_type": "code",
   "execution_count": null,
   "metadata": {},
   "outputs": [],
   "source": [
    "from sqlalchemy import text, declarative_base, create_engine\n",
    "\n",
    "engine = create_engine(\"sqlite:///burger.db\")\n",
    "Base = declarative_base()\n",
    "Base.metadata.create_all(bind=engine)\n",
    "\n",
    "sep = '\\n\\n'\n",
    "with open(\"sqlite_table_creation.txt\", 'r') as sql_file:\n",
    "    insert_request_string = sql_file.read()\n",
    "\n",
    "insert_request_List = insert_request_string.split(sep)\n",
    "\n",
    "with engine.connect() as con:\n",
    "    for insert_request in insert_request_List :\n",
    "        statement = text(insert_request)\n",
    "        con.execute(statement)"
   ]
  },
  {
   "cell_type": "markdown",
   "metadata": {},
   "source": [
    "## 2. importation des données"
   ]
  },
  {
   "cell_type": "code",
   "execution_count": null,
   "metadata": {},
   "outputs": [],
   "source": [
    "from pandas import Dataframe\n",
    "\n",
    "df_pays = Dataframe()\n",
    "\n",
    "df_pays.to_sql(name='Pays', con=engine, if_exists = 'append', index=False)"
   ]
  },
  {
   "cell_type": "markdown",
   "metadata": {},
   "source": [
    "## 3. Queries"
   ]
  },
  {
   "cell_type": "code",
   "execution_count": null,
   "metadata": {},
   "outputs": [],
   "source": [
    "connection = engine.connect()\n",
    "\n",
    "output = connection.execute(\"\"\"\n",
    "    SELECT code_postal, count(id_employe) AS nb_employe \n",
    "    FROM Employe \n",
    "    GROUP BY code_postal; \n",
    "\"\"\")\n",
    "\n"
   ]
  },
  {
   "cell_type": "markdown",
   "metadata": {},
   "source": [
    "# III En utilisant Sqlalchemy en mode Core"
   ]
  },
  {
   "cell_type": "markdown",
   "metadata": {},
   "source": [
    "## 1. création des tables"
   ]
  },
  {
   "cell_type": "code",
   "execution_count": 12,
   "metadata": {},
   "outputs": [],
   "source": [
    "from sqlalchemy import Table, Column, MetaData, ForeignKey, create_engine, String, Integer"
   ]
  },
  {
   "cell_type": "code",
   "execution_count": null,
   "metadata": {},
   "outputs": [],
   "source": [
    "# On établit une connexion\n",
    "engine = create_engine(\"sqlite:///burger.db\")\n",
    "connection = engine.connect()"
   ]
  },
  {
   "cell_type": "code",
   "execution_count": null,
   "metadata": {},
   "outputs": [],
   "source": [
    "# On instancie un objet metadata vide\n",
    "metadata = MetaData()\n",
    "\n",
    "# On ajoute aux métadata différentes tables: \n",
    "pays_table = Table('Pays', metadata,\n",
    "              Column('pays', String(), primary_key=True)\n",
    "              )\n",
    "\n",
    "### Gestion des restaurants\n",
    "restaurant_table = Table('Restaurant', metadata,\n",
    "              Column('code_postal', String(), primary_key=True),\n",
    "              Column('pays', String(), ForeignKey(\"Pays.pays\"), nullable=False),\n",
    "              Column('capacité', Integer(), default=0),\n",
    "              Column('espace_enfant', Integer(), default=False),\n",
    "pays_table = Table('Pays', metadata,\n",
    "              Column('pays', String(), primary_key=True)\n",
    "              )\n",
    "\n",
    "# On crée les tables ajoutées aux métadatas dans notre BDD\n",
    "metadata.create_all(engine) "
   ]
  },
  {
   "cell_type": "markdown",
   "metadata": {},
   "source": [
    "## 2. importation des données"
   ]
  },
  {
   "cell_type": "code",
   "execution_count": null,
   "metadata": {},
   "outputs": [],
   "source": [
    "# Set up connections between sqlalchemy and postgres dbapi\n",
    "engine = create_engine(\"sqlite:///burger.db\")\n",
    "connection = engine.connect()\n",
    "\n",
    "# On instancie un objet Metadata vide\n",
    "metadata = MetaData()\n",
    "\n",
    "# Avec reflect, on ajoute à l'instance métédata les données de notre BDD\n",
    "with engine.connect() as conn:\n",
    "    metadata.reflect(conn)\n",
    "\n",
    "# De manière optionnelle, on importe les packages permettant de générer des donées\n",
    "\n",
    "from faker import Faker\n",
    "\n",
    "faker = Faker()\n",
    "faker.random.seed(42)"
   ]
  },
  {
   "cell_type": "code",
   "execution_count": null,
   "metadata": {},
   "outputs": [],
   "source": [
    "pays_table = metadata.tables[\"Pays\"]\n",
    "\n",
    "# With permet d'ouvrir une connexion unique pour l'ensemble des requetes, si un échoue, aucune n'est lancée\n",
    "with engine.begin() as conn:\n",
    "    for _ in range(5):\n",
    "        insert_stmt = pays_table.insert().values(\n",
    "        pays = faker.country()\n",
    "        )\n",
    "        conn.execute(insert_stmt)"
   ]
  },
  {
   "cell_type": "code",
   "execution_count": null,
   "metadata": {},
   "outputs": [],
   "source": [
    "from sqlalchemy import select\n",
    "import random\n",
    "restaurant_table = metadata.tables[\"Restaurant\"]\n",
    "\n",
    "# à l'aide de notre connexion, on va chercher les clés primaires de la table restaurant.\n",
    "pays_pk = connection.execute(select([pays_table.c.pays])).fetchall()\n",
    "\n",
    "with engine.begin() as conn:\n",
    "    for _ in range(50):\n",
    "      insert_stmt = restaurant_table.insert().values(\n",
    "        code_postal = faker.postalcode(),\n",
    "        pays = random.choice(pays_pk)[0],\n",
    "        capacité = faker.pyint(0,500),\n",
    "        espace_enfant = faker.pyint(0,1),\n",
    "        service_rapide = faker.pyint(0,1),\n",
    "        accessibilité = faker.pyint(0,1),\n",
    "        parking = faker.pyint(0,200),\n",
    "      )\n",
    "      conn.execute(insert_stmt)"
   ]
  },
  {
   "cell_type": "markdown",
   "metadata": {},
   "source": [
    "## 3. Queries"
   ]
  },
  {
   "cell_type": "code",
   "execution_count": null,
   "metadata": {},
   "outputs": [],
   "source": [
    "engine = create_engine(\"sqlite:///burger.db\")\n",
    "connection = engine.connect()\n",
    "\n",
    "# Instantiate metadata class\n",
    "metadata = MetaData()\n",
    "\n",
    "# Reflect metadata/schema from existing sqlite database\n",
    "with engine.connect() as conn:\n",
    "    metadata.reflect(conn)"
   ]
  },
  {
   "cell_type": "code",
   "execution_count": null,
   "metadata": {},
   "outputs": [],
   "source": [
    "from sqlalchemy import func"
   ]
  },
  {
   "cell_type": "code",
   "execution_count": null,
   "metadata": {},
   "outputs": [],
   "source": [
    "employe = metadata.tables[\"Employe\"]\n",
    "restaurant = metadata.tables[\"Restaurant\"]\n",
    "\n",
    "employe_list = connection.execute(\n",
    "    select( [func.count(employe.c.id_employe), func.substring(employe.c.code_postal,0,3),employe.c.pays])\n",
    "    .group_by(restaurant.c.pays,  func.substring(restaurant.c.code_postal,0,3))\n",
    "    ).fetchall()\n",
    "employe_list"
   ]
  },
  {
   "cell_type": "markdown",
   "metadata": {},
   "source": [
    "voir [doc](https://docs.sqlalchemy.org/en/14/orm/queryguide.html)"
   ]
  },
  {
   "cell_type": "markdown",
   "metadata": {},
   "source": [
    "# IV En utilisant sqlalchemy en mode ORM"
   ]
  },
  {
   "cell_type": "code",
   "execution_count": 3,
   "metadata": {},
   "outputs": [],
   "source": [
    "from sqlalchemy.ext.declarative import declarative_base\n",
    "from sqlalchemy import create_engine\n",
    "from sqlalchemy import Column, Integer, String, Boolean, SmallInteger, CheckConstraint, DateTime\n"
   ]
  },
  {
   "cell_type": "markdown",
   "metadata": {},
   "source": [
    "## 1. création des tables"
   ]
  },
  {
   "cell_type": "code",
   "execution_count": 4,
   "metadata": {},
   "outputs": [],
   "source": [
    "engine = create_engine('sqlite:///db.sqlite')\n",
    "Base = declarative_base()\n",
    "\n",
    "\n",
    "class Record(Base):\n",
    "    __tablename__ = \"Records\"\n",
    "\n",
    "    id = Column(String, primary_key=True)\n",
    "    object_type = Column(String)\n",
    "    gare_name = Column(String)\n",
    "    object_nature =Column(String)\n",
    "    date = Column(DateTime)\n",
    "\n",
    "\n",
    "Base.metadata.create_all(engine)"
   ]
  },
  {
   "cell_type": "markdown",
   "metadata": {},
   "source": [
    "## 2. Importation des données"
   ]
  },
  {
   "cell_type": "code",
   "execution_count": 5,
   "metadata": {},
   "outputs": [],
   "source": [
    "from sqlalchemy.orm import sessionmaker\n",
    "import requests\n",
    "\n",
    "Session = sessionmaker(bind=engine)\n",
    "session = Session()\n",
    "\n",
    "URL_sncf = \"https://ressources.data.sncf.com/api/records/1.0/search/?dataset=objets-trouves-restitution&q=&sort=date&facet=date&facet=gc_obo_date_heure_restitution_c&facet=gc_obo_gare_origine_r_name&facet=gc_obo_nature_c&facet=gc_obo_type_c&facet=gc_obo_nom_recordtype_sc_c&refine.gc_obo_gare_origine_r_name=Lille+Europe&refine.date=2021\"\n",
    "\n",
    "list_of_data = requests.get(URL_sncf)\n",
    "\n"
   ]
  },
  {
   "cell_type": "code",
   "execution_count": 10,
   "metadata": {},
   "outputs": [
    {
     "data": {
      "text/plain": [
       "[{'datasetid': 'objets-trouves-restitution',\n",
       "  'recordid': '985365ef691728c0e61f1b4724ec7e6122d62ac2',\n",
       "  'fields': {'gc_obo_gare_origine_r_code_uic_c': '0087223263',\n",
       "   'gc_obo_type_c': 'Vêtements, chaussures',\n",
       "   'gc_obo_gare_origine_r_name': 'Lille Europe',\n",
       "   'gc_obo_nature_c': 'Manteau, veste, blazer, parka, blouson, cape',\n",
       "   'gc_obo_nom_recordtype_sc_c': 'Objet trouvé',\n",
       "   'date': '2021-12-31T16:15:11+00:00'},\n",
       "  'record_timestamp': '2023-01-02T10:01:11.357Z'},\n",
       " {'datasetid': 'objets-trouves-restitution',\n",
       "  'recordid': '3a1f44a88ed1d7d78382d34382fadd51e0d79edb',\n",
       "  'fields': {'gc_obo_gare_origine_r_code_uic_c': '0087223263',\n",
       "   'gc_obo_type_c': 'Bagagerie: sacs, valises, cartables',\n",
       "   'gc_obo_gare_origine_r_name': 'Lille Europe',\n",
       "   'gc_obo_nature_c': \"Sac d'enseigne (plastique, papier, …)\",\n",
       "   'gc_obo_nom_recordtype_sc_c': 'Objet trouvé',\n",
       "   'date': '2021-12-31T14:43:04+00:00'},\n",
       "  'record_timestamp': '2023-01-02T10:01:11.357Z'},\n",
       " {'datasetid': 'objets-trouves-restitution',\n",
       "  'recordid': '64803ceb5b3fda144b777f9755ed5edc537b6eca',\n",
       "  'fields': {'gc_obo_gare_origine_r_code_uic_c': '0087223263',\n",
       "   'gc_obo_type_c': 'Bagagerie: sacs, valises, cartables',\n",
       "   'gc_obo_gare_origine_r_name': 'Lille Europe',\n",
       "   'gc_obo_nature_c': \"Sac d'enseigne (plastique, papier, …)\",\n",
       "   'gc_obo_nom_recordtype_sc_c': 'Objet trouvé',\n",
       "   'date': '2021-12-31T12:36:59+00:00'},\n",
       "  'record_timestamp': '2023-01-02T10:01:11.357Z'},\n",
       " {'datasetid': 'objets-trouves-restitution',\n",
       "  'recordid': 'dec6c8ac94b47f73574eff8648980693ef7c5a1d',\n",
       "  'fields': {'gc_obo_gare_origine_r_code_uic_c': '0087223263',\n",
       "   'gc_obo_date_heure_restitution_c': '2022-01-03T10:56:38+00:00',\n",
       "   'gc_obo_type_c': 'Bagagerie: sacs, valises, cartables',\n",
       "   'gc_obo_gare_origine_r_name': 'Lille Europe',\n",
       "   'gc_obo_nature_c': 'Sac à main',\n",
       "   'gc_obo_nom_recordtype_sc_c': 'Objet trouvé',\n",
       "   'date': '2021-12-31T12:22:32+00:00'},\n",
       "  'record_timestamp': '2023-01-02T10:01:11.357Z'},\n",
       " {'datasetid': 'objets-trouves-restitution',\n",
       "  'recordid': '5eadc3c3490cec23f3ade0581976c37a5c4bf08b',\n",
       "  'fields': {'gc_obo_gare_origine_r_code_uic_c': '0087223263',\n",
       "   'gc_obo_date_heure_restitution_c': '2021-12-31T11:58:21+00:00',\n",
       "   'gc_obo_type_c': 'Bagagerie: sacs, valises, cartables',\n",
       "   'gc_obo_gare_origine_r_name': 'Lille Europe',\n",
       "   'gc_obo_nature_c': 'Sac à dos',\n",
       "   'gc_obo_nom_recordtype_sc_c': 'Objet trouvé',\n",
       "   'date': '2021-12-31T11:45:47+00:00'},\n",
       "  'record_timestamp': '2023-01-02T10:01:11.357Z'},\n",
       " {'datasetid': 'objets-trouves-restitution',\n",
       "  'recordid': 'aacea07d6402b7e5c6b77d3d31abe21398e6c5a4',\n",
       "  'fields': {'gc_obo_gare_origine_r_code_uic_c': '0087223263',\n",
       "   'gc_obo_date_heure_restitution_c': '2022-01-18T12:34:18+00:00',\n",
       "   'gc_obo_type_c': 'Porte-monnaie / portefeuille, argent, titres',\n",
       "   'gc_obo_gare_origine_r_name': 'Lille Europe',\n",
       "   'gc_obo_nature_c': 'Porte-monnaie, portefeuille',\n",
       "   'gc_obo_nom_recordtype_sc_c': 'Objet trouvé',\n",
       "   'date': '2021-12-31T07:49:44+00:00'},\n",
       "  'record_timestamp': '2023-01-02T10:01:11.357Z'},\n",
       " {'datasetid': 'objets-trouves-restitution',\n",
       "  'recordid': '59fdc9f95edf65fb617c51bc21bca79fcd0323b9',\n",
       "  'fields': {'gc_obo_gare_origine_r_code_uic_c': '0087223263',\n",
       "   'gc_obo_date_heure_restitution_c': '2022-01-29T07:37:12+00:00',\n",
       "   'gc_obo_type_c': 'Appareils électroniques, informatiques, appareils photo',\n",
       "   'gc_obo_gare_origine_r_name': 'Lille Europe',\n",
       "   'gc_obo_nature_c': 'Téléphone portable protégé (étui, coque,…)',\n",
       "   'gc_obo_nom_recordtype_sc_c': 'Objet trouvé',\n",
       "   'date': '2021-12-30T18:25:09+00:00'},\n",
       "  'record_timestamp': '2023-01-02T10:01:11.357Z'},\n",
       " {'datasetid': 'objets-trouves-restitution',\n",
       "  'recordid': '2ff30ca93363fa6897a884e319681ca0510fe341',\n",
       "  'fields': {'gc_obo_gare_origine_r_code_uic_c': '0087223263',\n",
       "   'gc_obo_date_heure_restitution_c': '2022-01-24T16:48:54+00:00',\n",
       "   'gc_obo_type_c': 'Appareils électroniques, informatiques, appareils photo',\n",
       "   'gc_obo_gare_origine_r_name': 'Lille Europe',\n",
       "   'gc_obo_nature_c': 'Téléphone portable protégé (étui, coque,…)',\n",
       "   'gc_obo_nom_recordtype_sc_c': 'Objet trouvé',\n",
       "   'date': '2021-12-30T13:41:11+00:00'},\n",
       "  'record_timestamp': '2023-01-02T10:01:11.357Z'},\n",
       " {'datasetid': 'objets-trouves-restitution',\n",
       "  'recordid': '599be9debda3fba488b2f8a1afe9f419a3151027',\n",
       "  'fields': {'gc_obo_gare_origine_r_code_uic_c': '0087223263',\n",
       "   'gc_obo_date_heure_restitution_c': '2022-01-01T14:50:12+00:00',\n",
       "   'gc_obo_type_c': 'Appareils électroniques, informatiques, appareils photo',\n",
       "   'gc_obo_gare_origine_r_name': 'Lille Europe',\n",
       "   'gc_obo_nature_c': 'Téléphone portable protégé (étui, coque,…)',\n",
       "   'gc_obo_nom_recordtype_sc_c': 'Objet trouvé',\n",
       "   'date': '2021-12-30T11:30:47+00:00'},\n",
       "  'record_timestamp': '2023-01-02T10:01:11.357Z'},\n",
       " {'datasetid': 'objets-trouves-restitution',\n",
       "  'recordid': '9a7fbee2681bdc3051378920d825d5374bdef115',\n",
       "  'fields': {'gc_obo_gare_origine_r_code_uic_c': '0087223263',\n",
       "   'gc_obo_type_c': 'Bagagerie: sacs, valises, cartables',\n",
       "   'gc_obo_gare_origine_r_name': 'Lille Europe',\n",
       "   'gc_obo_nature_c': 'Valise, sac sur roulettes',\n",
       "   'gc_obo_nom_recordtype_sc_c': 'Objet trouvé',\n",
       "   'date': '2021-12-30T10:40:29+00:00'},\n",
       "  'record_timestamp': '2023-01-02T10:01:11.357Z'}]"
      ]
     },
     "execution_count": 10,
     "metadata": {},
     "output_type": "execute_result"
    }
   ],
   "source": [
    "list_of_data.json()['records']"
   ]
  },
  {
   "cell_type": "code",
   "execution_count": 17,
   "metadata": {},
   "outputs": [
    {
     "ename": "TypeError",
     "evalue": "'Response' object is not subscriptable",
     "output_type": "error",
     "traceback": [
      "\u001b[1;31m---------------------------------------------------------------------------\u001b[0m",
      "\u001b[1;31mTypeError\u001b[0m                                 Traceback (most recent call last)",
      "Cell \u001b[1;32mIn[17], line 2\u001b[0m\n\u001b[0;32m      1\u001b[0m \u001b[39mfor\u001b[39;00m main_key \u001b[39min\u001b[39;00m list_of_data\u001b[39m.\u001b[39mjson()[\u001b[39m'\u001b[39m\u001b[39mrecords\u001b[39m\u001b[39m'\u001b[39m]:\n\u001b[1;32m----> 2\u001b[0m     \u001b[39mfor\u001b[39;00m secondary_key \u001b[39min\u001b[39;00m list_of_data[main_key]:\n\u001b[0;32m      3\u001b[0m         \u001b[39mif\u001b[39;00m secondary_key \u001b[39m==\u001b[39m \u001b[39m'\u001b[39m\u001b[39mfields\u001b[39m\u001b[39m'\u001b[39m:\n\u001b[0;32m      4\u001b[0m             \u001b[39mprint\u001b[39m(secondary_key)\n",
      "\u001b[1;31mTypeError\u001b[0m: 'Response' object is not subscriptable"
     ]
    }
   ],
   "source": [
    "for main_key in list_of_data.json()['records']:\n",
    "    print(main_key)\n",
    "    # for secondary_key in list_of_data[main_key]:\n",
    "    #     if secondary_key == 'fields':\n",
    "    #         print(secondary_key)\n"
   ]
  },
  {
   "cell_type": "code",
   "execution_count": null,
   "metadata": {},
   "outputs": [],
   "source": [
    "\n",
    "for _ in range(10):\n",
    "    session.add(Pays(pays=faker.country()))\n",
    "\n",
    "session.commit()"
   ]
  },
  {
   "cell_type": "markdown",
   "metadata": {},
   "source": [
    "## 3. Queries"
   ]
  },
  {
   "cell_type": "code",
   "execution_count": null,
   "metadata": {},
   "outputs": [],
   "source": [
    "Pays.query.get(\"France\")\n",
    "\n",
    "# ou \n",
    "\n",
    "session.query(Pays).filter(Pays.continent = \"America\").all()"
   ]
  },
  {
   "cell_type": "code",
   "execution_count": null,
   "metadata": {},
   "outputs": [],
   "source": [
    "pays = Pays(pays=\"France\")\n",
    "pays.get_all_restaurant()"
   ]
  },
  {
   "cell_type": "markdown",
   "metadata": {},
   "source": [
    "voir [doc](https://docs.sqlalchemy.org/en/14/orm/query.html)"
   ]
  },
  {
   "cell_type": "markdown",
   "metadata": {},
   "source": [
    "## 4. Drop Delete"
   ]
  },
  {
   "cell_type": "markdown",
   "metadata": {},
   "source": [
    "### Supprimer une table"
   ]
  },
  {
   "cell_type": "code",
   "execution_count": null,
   "metadata": {},
   "outputs": [],
   "source": [
    "from sqlite_init import Gare\n",
    "from sqlalchemy import create_engine\n",
    "\n",
    "engine = create_engine('sqlite:///db.sqlite')\n",
    "Gare.__table__.drop(engine)"
   ]
  },
  {
   "cell_type": "markdown",
   "metadata": {},
   "source": [
    "### Nettoyer les lignes d'une table"
   ]
  },
  {
   "cell_type": "code",
   "execution_count": null,
   "metadata": {},
   "outputs": [],
   "source": [
    "session.query(Gare).delete()\n",
    "session.commit()"
   ]
  }
 ],
 "metadata": {
  "kernelspec": {
   "display_name": "timeseries",
   "language": "python",
   "name": "python3"
  },
  "language_info": {
   "codemirror_mode": {
    "name": "ipython",
    "version": 3
   },
   "file_extension": ".py",
   "mimetype": "text/x-python",
   "name": "python",
   "nbconvert_exporter": "python",
   "pygments_lexer": "ipython3",
   "version": "3.10.8"
  },
  "orig_nbformat": 4,
  "vscode": {
   "interpreter": {
    "hash": "3d5db03ecd25bb7cd67a88d06ba3a7e8b8ea7b9f768241a6454b017d95cd1d15"
   }
  }
 },
 "nbformat": 4,
 "nbformat_minor": 2
}
